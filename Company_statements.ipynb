{
 "cells": [
  {
   "cell_type": "code",
   "execution_count": 1,
   "metadata": {},
   "outputs": [],
   "source": [
    "import os\n",
    "import logging as lg\n",
    "lg.basicConfig(filename = os.getcwd()+'\\\\'+'balance_sheet.log', format = '%(asctime)s - %(message)s', filemode = 'w')\n",
    "\n",
    "class company_statements:\n",
    "    def __init__(self):\n",
    "        self.financial_year = input('What is your financial year - ')\n",
    "        self.capital_balance = float(input('Provide Capital balance - '))\n",
    "        self.current_liabilities = float(input('Provide Current liability value - '))\n",
    "        self.loans = float(input('Provide your secured and unsecured loans - '))\n",
    "        self.fixed_assets = float(input('Provide the total values of fixed asssets - '))\n",
    "        self.investments = float(input('Provide the value of the Investments you have - '))\n",
    "        self.current_assets = float(input('Provide the value of the current assets - '))\n",
    "        self.opening_stock = float(input('What is your opening stock in - '))\n",
    "        self.purchase_account = float(input('What is your purchase value in - '))\n",
    "        self.direct_expenses = float(input('What is your direct expense value in - '))\n",
    "        self.sales_account = float(input('What is your Sales Value in - '))\n",
    "        self.indirect_expenses = float(input('What is your indirect expense value in - '))\n",
    "        self.indirect_income = float(input('What is your indirect income value in - '))\n",
    "        self.closing_stock = float(input('What is your closing stock value in - '))\n",
    "        self.opening_balance = float(input('What is the opening balance - '))\n",
    "        \n",
    "    def gross_profit(self):\n",
    "        try:\n",
    "            return self.sales_account - (self.opening_stock+self.purchase_account+self.direct_expenses - self.closing_stock)\n",
    "        except Exception as e:\n",
    "            print('Something is going wrong')\n",
    "            lg.exception(e)\n",
    "            \n",
    "    def net_profit(self):\n",
    "        try:\n",
    "            gross_pro = self.gross_profit()\n",
    "            return (gross_pro + self.indirect_income) - self.indirect_expenses\n",
    "        except Exception as e:\n",
    "            print('Something is going wrong')\n",
    "            lg.exception(e)\n",
    "            \n",
    "    def balance_sheet(self):\n",
    "        try:\n",
    "            net_pro = self.net_profit()\n",
    "            opening_balance = self.opening_balance\n",
    "            net_pro_for_balance_sheet = net_pro + opening_balance\n",
    "            total_liability = self.capital_balance+self.current_liabilities+self.loans+net_pro_for_balance_sheet\n",
    "            total_asset = self.fixed_assets+self.current_assets+self.investments\n",
    "            return 'Assets is ', total_asset, 'Liability is ', total_liability\n",
    "        except Exception as e:\n",
    "            print('Something is not well')\n",
    "            lg.exception(e)"
   ]
  },
  {
   "cell_type": "code",
   "execution_count": 2,
   "metadata": {},
   "outputs": [
    {
     "name": "stdout",
     "output_type": "stream",
     "text": [
      "What is your financial year - 2017-18\n",
      "Provide Capital balance - 7586823.22\n",
      "Provide Current liability value - 22052923.93\n",
      "Provide your secured and unsecured loans - 20448441.56\n",
      "Provide the total values of fixed asssets - 1305238.12\n",
      "Provide the value of the Investments you have - 707291.00\n",
      "Provide the value of the current assets - 54272657.07\n",
      "What is your opening stock in - 12238901.50\n",
      "What is your purchase value in - 137246138.29\n",
      "What is your direct expense value in - 3064274.00\n",
      "What is your Sales Value in - 189528322.66\n",
      "What is your indirect expense value in - 37816997.52\n",
      "What is your indirect income value in - 1604862.93\n",
      "What is your closing stock value in - 5370923.44\n",
      "What is the opening balance - 59199.76\n"
     ]
    }
   ],
   "source": [
    "RD_mercan = company_statements()"
   ]
  },
  {
   "cell_type": "code",
   "execution_count": 3,
   "metadata": {},
   "outputs": [
    {
     "data": {
      "text/plain": [
       "42349932.31"
      ]
     },
     "execution_count": 3,
     "metadata": {},
     "output_type": "execute_result"
    }
   ],
   "source": [
    "RD_mercan.gross_profit()"
   ]
  },
  {
   "cell_type": "code",
   "execution_count": 4,
   "metadata": {},
   "outputs": [
    {
     "data": {
      "text/plain": [
       "6137797.719999999"
      ]
     },
     "execution_count": 4,
     "metadata": {},
     "output_type": "execute_result"
    }
   ],
   "source": [
    "RD_mercan.net_profit()"
   ]
  },
  {
   "cell_type": "code",
   "execution_count": 5,
   "metadata": {},
   "outputs": [
    {
     "data": {
      "text/plain": [
       "('Assets is ', 56285186.19, 'Liability is ', 56285186.18999999)"
      ]
     },
     "execution_count": 5,
     "metadata": {},
     "output_type": "execute_result"
    }
   ],
   "source": [
    "RD_mercan.balance_sheet()"
   ]
  },
  {
   "cell_type": "code",
   "execution_count": 6,
   "metadata": {},
   "outputs": [],
   "source": [
    "# Trial Blance has to be prepare first"
   ]
  }
 ],
 "metadata": {
  "kernelspec": {
   "display_name": "Python 3",
   "language": "python",
   "name": "python3"
  },
  "language_info": {
   "codemirror_mode": {
    "name": "ipython",
    "version": 3
   },
   "file_extension": ".py",
   "mimetype": "text/x-python",
   "name": "python",
   "nbconvert_exporter": "python",
   "pygments_lexer": "ipython3",
   "version": "3.7.6"
  },
  "toc": {
   "base_numbering": 1,
   "nav_menu": {},
   "number_sections": true,
   "sideBar": true,
   "skip_h1_title": false,
   "title_cell": "Table of Contents",
   "title_sidebar": "Contents",
   "toc_cell": false,
   "toc_position": {},
   "toc_section_display": true,
   "toc_window_display": false
  }
 },
 "nbformat": 4,
 "nbformat_minor": 4
}
