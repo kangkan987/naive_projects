{
 "cells": [
  {
   "cell_type": "code",
   "execution_count": 1,
   "metadata": {},
   "outputs": [
    {
     "name": "stdout",
     "output_type": "stream",
     "text": [
      "+-----------+-----------+----------+--------+\n",
      "| Item Name | Unit Cost | Quantity | Amount |\n",
      "+-----------+-----------+----------+--------+\n",
      "|    Fan    |    200    |    2     |  400   |\n",
      "|    Book   |    500    |    3     |  1500  |\n",
      "+-----------+-----------+----------+--------+\n"
     ]
    }
   ],
   "source": [
    "from prettytable import PrettyTable\n",
    "my_table = PrettyTable([\"Item Name\",\"Unit Cost\",\"Quantity\",\"Amount\"])\n",
    "my_table.add_row([\"Fan\",200,2,400])\n",
    "my_table.add_row([\"Book\",500,3,1500])\n",
    "print(my_table)"
   ]
  },
  {
   "cell_type": "markdown",
   "metadata": {},
   "source": [
    "# Finding the Magnitude of an object with the help of Sin"
   ]
  },
  {
   "cell_type": "code",
   "execution_count": 34,
   "metadata": {},
   "outputs": [],
   "source": [
    "class magnitude:\n",
    "    def initial_col(self):\n",
    "        import os\n",
    "        import logging\n",
    "        logging.basicConfig(filename=os.getcwd()+'\\\\'+'magnitude.log',format= '%(asctime)s %(message)s', filemode = 'w')\n",
    "        try:\n",
    "            self.lst = []\n",
    "            self.n = int(input(\"Enter number of elements : \"))\n",
    "            for i in range(0,self.n):\n",
    "                col_table = input(\"Enter the column name you want to initialize : \")\n",
    "                self.lst.append(col_table)\n",
    "            return self.lst\n",
    "        except Exception as e:\n",
    "            print('Check the log')\n",
    "            logging.exception(e)\n",
    "            \n",
    "    def row(self):\n",
    "        import os\n",
    "        import logging\n",
    "        logging.basicConfig(filename=os.getcwd()+'\\\\'+'row.log',format= '%(asctime)s %(message)s', filemode = 'w')\n",
    "        try:\n",
    "            import math\n",
    "            self.lst1 = [input('Object Name '),int(input('Angle from the gound to peek ')),int(input('Peek distance from the ground '))]\n",
    "            self.lst2 = [self.lst1[2]*math.sin(math.radians(self.lst1[2]))]\n",
    "            self.lst1.extend(self.lst2)\n",
    "            return self.lst1\n",
    "        except Exception as e:\n",
    "            print('Check log')\n",
    "            logging.exception(e)\n",
    "            \n",
    "    #def repeat_fun(self):\n",
    "        #self.num_row = int(input('Enter the number of object you to print - '))\n",
    "        #for i in range(self.num_row) : self.row()\n",
    "            \n",
    "    def Table(self):\n",
    "        import os\n",
    "        import logging\n",
    "        logging.basicConfig(filename=os.getcwd()+'\\\\'+'Table.log',format= '%(asctime)s %(message)s', filemode = 'w')\n",
    "        try:\n",
    "            from prettytable import PrettyTable\n",
    "            myTable = PrettyTable(self.initial_col())\n",
    "            self.rows = []\n",
    "            self.num_row = int(input('Enter the number of object you to print - '))\n",
    "            for i in range(0,self.num_row):\n",
    "                rows_val = self.row()\n",
    "                self.rows.append(rows_val)\n",
    "            myTable.add_rows(self.rows)\n",
    "            print(myTable)\n",
    "        except Exception as e:\n",
    "            print('Check log')\n",
    "            logging.exception(e)"
   ]
  },
  {
   "cell_type": "code",
   "execution_count": 35,
   "metadata": {},
   "outputs": [],
   "source": [
    "h = magnitude()"
   ]
  },
  {
   "cell_type": "code",
   "execution_count": 36,
   "metadata": {},
   "outputs": [
    {
     "name": "stdout",
     "output_type": "stream",
     "text": [
      "Enter number of elements : 4\n",
      "Enter the column name you want to initialize : Object\n",
      "Enter the column name you want to initialize : Angle\n",
      "Enter the column name you want to initialize : Peek Distance\n",
      "Enter the column name you want to initialize : Magnitude\n",
      "Enter the number of object you to print - 2\n",
      "Object Name Tree\n",
      "Angle from the gound to peek 45\n",
      "Peek distance from the ground 65\n",
      "Object Name Building\n",
      "Angle from the gound to peek 35\n",
      "Peek distance from the ground 75\n",
      "+----------+-------+---------------+-------------------+\n",
      "|  Object  | Angle | Peek Distance |     Magnitude     |\n",
      "+----------+-------+---------------+-------------------+\n",
      "|   Tree   |   45  |       65      | 58.91000615738225 |\n",
      "| Building |   35  |       75      | 72.44443697168012 |\n",
      "+----------+-------+---------------+-------------------+\n"
     ]
    }
   ],
   "source": [
    "h.Table()"
   ]
  },
  {
   "cell_type": "code",
   "execution_count": null,
   "metadata": {},
   "outputs": [],
   "source": []
  }
 ],
 "metadata": {
  "kernelspec": {
   "display_name": "Python 3",
   "language": "python",
   "name": "python3"
  },
  "language_info": {
   "codemirror_mode": {
    "name": "ipython",
    "version": 3
   },
   "file_extension": ".py",
   "mimetype": "text/x-python",
   "name": "python",
   "nbconvert_exporter": "python",
   "pygments_lexer": "ipython3",
   "version": "3.7.6"
  },
  "toc": {
   "base_numbering": 1,
   "nav_menu": {},
   "number_sections": true,
   "sideBar": true,
   "skip_h1_title": false,
   "title_cell": "Table of Contents",
   "title_sidebar": "Contents",
   "toc_cell": false,
   "toc_position": {},
   "toc_section_display": true,
   "toc_window_display": false
  }
 },
 "nbformat": 4,
 "nbformat_minor": 4
}
